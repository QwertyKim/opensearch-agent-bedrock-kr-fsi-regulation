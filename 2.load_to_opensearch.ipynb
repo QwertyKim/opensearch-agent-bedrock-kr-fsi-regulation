{
 "cells": [
  {
   "cell_type": "code",
   "execution_count": null,
   "metadata": {},
   "outputs": [],
   "source": [
    "!pip install opensearch-py\n",
    "!pip install python-dotenv"
   ]
  },
  {
   "cell_type": "code",
   "execution_count": null,
   "metadata": {},
   "outputs": [],
   "source": [
    "import json\n",
    "\n",
    "with open('sessions_info.json', 'r', encoding='utf-8') as f:\n",
    "    documents = json.load(f)\n",
    "\n",
    "print(documents[0])"
   ]
  },
  {
   "cell_type": "code",
   "execution_count": null,
   "metadata": {},
   "outputs": [],
   "source": [
    "import boto3\n",
    "from botocore.config import Config\n",
    "\n",
    "region = 'us-west-2'\n",
    "model_id = \"amazon.titan-embed-text-v2:0\"\n",
    "\n",
    "def init_bedrock_client(region: str):\n",
    "    retry_config = Config(\n",
    "        region_name=region,\n",
    "        retries={\"max_attempts\": 10, \"mode\": \"standard\"}\n",
    "    )\n",
    "    return boto3.client(\"bedrock-runtime\", region_name=region, config=retry_config)\n",
    "\n",
    "def embed_document(document):\n",
    "    title_response = boto3_client.invoke_model(\n",
    "        modelId=model_id,\n",
    "        body=json.dumps({\"inputText\": document['title']})\n",
    "    )\n",
    "    title_embedding = json.loads(title_response['body'].read())['embedding']\n",
    "    \n",
    "    synopsis_response = boto3_client.invoke_model(\n",
    "        modelId=model_id,\n",
    "        body=json.dumps({\"inputText\": document['synopsis']})\n",
    "    )\n",
    "    synopsis_embedding = json.loads(synopsis_response['body'].read())['embedding']\n",
    "    document['title_embedding'] = title_embedding\n",
    "    document['synopsis_embedding'] = synopsis_embedding\n",
    "\n",
    "    return document\n",
    "\n",
    "boto3_client = init_bedrock_client(region)\n",
    "\n",
    "document_with_emb = []\n",
    "for document in documents:\n",
    "    response = embed_document(document)\n",
    "    document_with_emb.append(response)\n",
    "\n",
    "print(document_with_emb[0])"
   ]
  },
  {
   "cell_type": "code",
   "execution_count": null,
   "metadata": {},
   "outputs": [],
   "source": [
    "output_file = 'session_info_with_emb.json'\n",
    "\n",
    "with open(output_file, 'w', encoding='utf-8') as f:\n",
    "    json.dump(document_with_emb, f, ensure_ascii=False, indent=4)"
   ]
  },
  {
   "cell_type": "code",
   "execution_count": null,
   "metadata": {},
   "outputs": [],
   "source": [
    "from opensearchpy import OpenSearch, RequestsHttpConnection\n",
    "from dotenv import load_dotenv\n",
    "import os\n",
    "\n",
    "load_dotenv()\n",
    "host = os.getenv('OPENSEARCH_HOST')\n",
    "user = os.getenv('OPENSEARCH_USER')\n",
    "password = os.getenv('OPENSEARCH_PASSWORD')\n",
    "region = 'us-east-1'\n",
    "index_name = 'reinvent_session'"
   ]
  },
  {
   "cell_type": "code",
   "execution_count": null,
   "metadata": {},
   "outputs": [],
   "source": [
    "os_client = OpenSearch(\n",
    "    hosts = [{'host': host.replace(\"https://\", \"\"), 'port': 443}],\n",
    "    http_auth = (user, password),\n",
    "    use_ssl = True,\n",
    "    verify_certs = True,\n",
    "    connection_class = RequestsHttpConnection\n",
    ")\n",
    "\n",
    "mapping = {\n",
    "    \"settings\": {\n",
    "        \"index\": {\n",
    "            \"knn\": True,\n",
    "            \"knn.algo_param.ef_search\": 512\n",
    "        }\n",
    "    },\n",
    "    \"mappings\": {\n",
    "        \"properties\": {\n",
    "            \"code\": {\"type\": \"keyword\"},\n",
    "            \"title\": {\"type\": \"text\"},\n",
    "            \"synopsis\": {\"type\": \"text\"},\n",
    "            \"topics\": {\"type\": \"keyword\"},\n",
    "            \"aws_services\": {\"type\": \"keyword\"},\n",
    "            \"target_audience\": {\"type\": \"keyword\"},\n",
    "            \"session_format\": {\"type\": \"keyword\"},\n",
    "            \"title_embedding\": {\n",
    "                \"type\": \"knn_vector\",\n",
    "                \"dimension\": 1024,\n",
    "                \"method\": {\n",
    "                    \"name\": \"hnsw\",\n",
    "                    \"space_type\": \"l2\",\n",
    "                    \"engine\": \"faiss\",\n",
    "                    \"parameters\": {\n",
    "                        \"ef_construction\": 512,\n",
    "                        \"m\": 16\n",
    "                    }\n",
    "                }\n",
    "            },\n",
    "            \"synopsis_embedding\": {\n",
    "                \"type\": \"knn_vector\",\n",
    "                \"dimension\": 1024,\n",
    "                \"method\": {\n",
    "                    \"name\": \"hnsw\",\n",
    "                    \"space_type\": \"l2\",\n",
    "                    \"engine\": \"faiss\",\n",
    "                    \"parameters\": {\n",
    "                        \"ef_construction\": 512,\n",
    "                        \"m\": 16\n",
    "                    }\n",
    "                }\n",
    "            }\n",
    "        }\n",
    "    }\n",
    "}\n"
   ]
  },
  {
   "cell_type": "code",
   "execution_count": null,
   "metadata": {},
   "outputs": [],
   "source": [
    "def init_opensearch_index(os_client, index_name, mapping):\n",
    "    if os_client.indices.exists(index=index_name):\n",
    "        os_client.indices.delete(index=index_name)\n",
    "    os_client.indices.create(index=index_name, body=mapping)\n",
    "\n",
    "init_opensearch_index(os_client, index_name, mapping)"
   ]
  },
  {
   "cell_type": "code",
   "execution_count": null,
   "metadata": {},
   "outputs": [],
   "source": [
    "bulk_data = []\n",
    "for doc in document_with_emb:\n",
    "    bulk_data.append({\"index\": {\"_index\": index_name, \"_id\": doc['code']}})\n",
    "    bulk_data.append(doc)\n",
    "\n",
    "if bulk_data:\n",
    "    response = os_client.bulk(body=bulk_data)\n",
    "    successful = sum(1 for item in response['items'] if item['index']['status'] in (200, 201))\n",
    "    failed = len(response['items']) - successful\n",
    "\n",
    "    print(f\"Indexed {successful} documents successfully.\")\n",
    "    print(f\"Failed to index {failed} documents.\")\n",
    "else:\n",
    "    print(\"No data to index.\")\n"
   ]
  },
  {
   "cell_type": "code",
   "execution_count": null,
   "metadata": {},
   "outputs": [],
   "source": [
    "search_response = os_client.search(\n",
    "    index=index_name,\n",
    "    body={\n",
    "        \"size\": 1,\n",
    "        \"query\": {\n",
    "            \"function_score\": {\n",
    "                \"random_score\": {}\n",
    "            }\n",
    "        }\n",
    "    }\n",
    ")\n",
    "\n",
    "print(search_response['hits']['hits'][0]['_source']['title'])\n",
    "print(search_response['hits']['hits'][0]['_source']['synopsis'])"
   ]
  }
 ],
 "metadata": {
  "kernelspec": {
   "display_name": "Python 3",
   "language": "python",
   "name": "python3"
  },
  "language_info": {
   "codemirror_mode": {
    "name": "ipython",
    "version": 3
   },
   "file_extension": ".py",
   "mimetype": "text/x-python",
   "name": "python",
   "nbconvert_exporter": "python",
   "pygments_lexer": "ipython3",
   "version": "3.9.16"
  }
 },
 "nbformat": 4,
 "nbformat_minor": 2
}
