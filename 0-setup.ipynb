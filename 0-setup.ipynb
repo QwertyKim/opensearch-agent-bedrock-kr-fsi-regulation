{
 "cells": [
  {
   "cell_type": "code",
   "execution_count": 6,
   "id": "0fa740ad-181d-491c-8f9e-83d0fa42c0a8",
   "metadata": {
    "tags": []
   },
   "outputs": [
    {
     "name": "stdout",
     "output_type": "stream",
     "text": [
      "Requirement already satisfied: sagemaker in /home/ec2-user/anaconda3/envs/python3/lib/python3.10/site-packages (from -r requirements.txt (line 1)) (2.231.0)\n",
      "Requirement already satisfied: langchain in /home/ec2-user/anaconda3/envs/python3/lib/python3.10/site-packages (from -r requirements.txt (line 2)) (0.3.1)\n",
      "Requirement already satisfied: opensearch-py in /home/ec2-user/anaconda3/envs/python3/lib/python3.10/site-packages (from -r requirements.txt (line 3)) (2.7.1)\n",
      "Requirement already satisfied: faiss-cpu in /home/ec2-user/anaconda3/envs/python3/lib/python3.10/site-packages (from -r requirements.txt (line 4)) (1.8.0.post1)\n",
      "Requirement already satisfied: pdfplumber in /home/ec2-user/anaconda3/envs/python3/lib/python3.10/site-packages (from -r requirements.txt (line 5)) (0.11.4)\n",
      "Requirement already satisfied: termcolor in /home/ec2-user/anaconda3/envs/python3/lib/python3.10/site-packages (from -r requirements.txt (line 6)) (2.4.0)\n",
      "Requirement already satisfied: opensearch_dsl in /home/ec2-user/anaconda3/envs/python3/lib/python3.10/site-packages (from -r requirements.txt (line 7)) (2.1.0)\n",
      "Requirement already satisfied: pikepdf in /home/ec2-user/anaconda3/envs/python3/lib/python3.10/site-packages (from -r requirements.txt (line 8)) (9.3.0)\n",
      "Requirement already satisfied: pypdf in /home/ec2-user/anaconda3/envs/python3/lib/python3.10/site-packages (from -r requirements.txt (line 9)) (5.0.1)\n",
      "Requirement already satisfied: pytesseract in /home/ec2-user/anaconda3/envs/python3/lib/python3.10/site-packages (from -r requirements.txt (line 10)) (0.3.13)\n",
      "Requirement already satisfied: attrs<24,>=23.1.0 in /home/ec2-user/anaconda3/envs/python3/lib/python3.10/site-packages (from sagemaker->-r requirements.txt (line 1)) (23.2.0)\n",
      "Requirement already satisfied: boto3<2.0,>=1.34.142 in /home/ec2-user/anaconda3/envs/python3/lib/python3.10/site-packages (from sagemaker->-r requirements.txt (line 1)) (1.35.16)\n",
      "Requirement already satisfied: cloudpickle==2.2.1 in /home/ec2-user/anaconda3/envs/python3/lib/python3.10/site-packages (from sagemaker->-r requirements.txt (line 1)) (2.2.1)\n",
      "Requirement already satisfied: docker in /home/ec2-user/anaconda3/envs/python3/lib/python3.10/site-packages (from sagemaker->-r requirements.txt (line 1)) (7.1.0)\n",
      "Requirement already satisfied: google-pasta in /home/ec2-user/anaconda3/envs/python3/lib/python3.10/site-packages (from sagemaker->-r requirements.txt (line 1)) (0.2.0)\n",
      "Requirement already satisfied: importlib-metadata<7.0,>=1.4.0 in /home/ec2-user/anaconda3/envs/python3/lib/python3.10/site-packages (from sagemaker->-r requirements.txt (line 1)) (6.11.0)\n",
      "Requirement already satisfied: jsonschema in /home/ec2-user/anaconda3/envs/python3/lib/python3.10/site-packages (from sagemaker->-r requirements.txt (line 1)) (4.23.0)\n",
      "Requirement already satisfied: numpy<2.0,>=1.9.0 in /home/ec2-user/anaconda3/envs/python3/lib/python3.10/site-packages (from sagemaker->-r requirements.txt (line 1)) (1.22.4)\n",
      "Requirement already satisfied: packaging>=20.0 in /home/ec2-user/anaconda3/envs/python3/lib/python3.10/site-packages (from sagemaker->-r requirements.txt (line 1)) (24.1)\n",
      "Requirement already satisfied: pandas in /home/ec2-user/anaconda3/envs/python3/lib/python3.10/site-packages (from sagemaker->-r requirements.txt (line 1)) (2.2.2)\n",
      "Requirement already satisfied: pathos in /home/ec2-user/anaconda3/envs/python3/lib/python3.10/site-packages (from sagemaker->-r requirements.txt (line 1)) (0.3.2)\n",
      "Requirement already satisfied: platformdirs in /home/ec2-user/anaconda3/envs/python3/lib/python3.10/site-packages (from sagemaker->-r requirements.txt (line 1)) (4.2.2)\n",
      "Requirement already satisfied: protobuf<5.0,>=3.12 in /home/ec2-user/anaconda3/envs/python3/lib/python3.10/site-packages (from sagemaker->-r requirements.txt (line 1)) (4.25.4)\n",
      "Requirement already satisfied: psutil in /home/ec2-user/anaconda3/envs/python3/lib/python3.10/site-packages (from sagemaker->-r requirements.txt (line 1)) (6.0.0)\n",
      "Requirement already satisfied: pyyaml~=6.0 in /home/ec2-user/anaconda3/envs/python3/lib/python3.10/site-packages (from sagemaker->-r requirements.txt (line 1)) (6.0.1)\n",
      "Requirement already satisfied: requests in /home/ec2-user/anaconda3/envs/python3/lib/python3.10/site-packages (from sagemaker->-r requirements.txt (line 1)) (2.32.3)\n",
      "Requirement already satisfied: sagemaker-core<2.0.0,>=1.0.0 in /home/ec2-user/anaconda3/envs/python3/lib/python3.10/site-packages (from sagemaker->-r requirements.txt (line 1)) (1.0.4)\n",
      "Requirement already satisfied: schema in /home/ec2-user/anaconda3/envs/python3/lib/python3.10/site-packages (from sagemaker->-r requirements.txt (line 1)) (0.7.7)\n",
      "Requirement already satisfied: smdebug-rulesconfig==1.0.1 in /home/ec2-user/anaconda3/envs/python3/lib/python3.10/site-packages (from sagemaker->-r requirements.txt (line 1)) (1.0.1)\n",
      "Requirement already satisfied: tblib<4,>=1.7.0 in /home/ec2-user/anaconda3/envs/python3/lib/python3.10/site-packages (from sagemaker->-r requirements.txt (line 1)) (3.0.0)\n",
      "Requirement already satisfied: tqdm in /home/ec2-user/anaconda3/envs/python3/lib/python3.10/site-packages (from sagemaker->-r requirements.txt (line 1)) (4.66.4)\n",
      "Requirement already satisfied: urllib3<3.0.0,>=1.26.8 in /home/ec2-user/anaconda3/envs/python3/lib/python3.10/site-packages (from sagemaker->-r requirements.txt (line 1)) (2.2.2)\n",
      "Requirement already satisfied: SQLAlchemy<3,>=1.4 in /home/ec2-user/anaconda3/envs/python3/lib/python3.10/site-packages (from langchain->-r requirements.txt (line 2)) (2.0.31)\n",
      "Requirement already satisfied: aiohttp<4.0.0,>=3.8.3 in /home/ec2-user/anaconda3/envs/python3/lib/python3.10/site-packages (from langchain->-r requirements.txt (line 2)) (3.9.5)\n",
      "Requirement already satisfied: async-timeout<5.0.0,>=4.0.0 in /home/ec2-user/anaconda3/envs/python3/lib/python3.10/site-packages (from langchain->-r requirements.txt (line 2)) (4.0.3)\n",
      "Requirement already satisfied: langchain-core<0.4.0,>=0.3.6 in /home/ec2-user/anaconda3/envs/python3/lib/python3.10/site-packages (from langchain->-r requirements.txt (line 2)) (0.3.7)\n",
      "Requirement already satisfied: langchain-text-splitters<0.4.0,>=0.3.0 in /home/ec2-user/anaconda3/envs/python3/lib/python3.10/site-packages (from langchain->-r requirements.txt (line 2)) (0.3.0)\n",
      "Requirement already satisfied: langsmith<0.2.0,>=0.1.17 in /home/ec2-user/anaconda3/envs/python3/lib/python3.10/site-packages (from langchain->-r requirements.txt (line 2)) (0.1.129)\n",
      "Requirement already satisfied: pydantic<3.0.0,>=2.7.4 in /home/ec2-user/anaconda3/envs/python3/lib/python3.10/site-packages (from langchain->-r requirements.txt (line 2)) (2.9.1)\n",
      "Requirement already satisfied: tenacity!=8.4.0,<9.0.0,>=8.1.0 in /home/ec2-user/anaconda3/envs/python3/lib/python3.10/site-packages (from langchain->-r requirements.txt (line 2)) (8.5.0)\n",
      "Requirement already satisfied: python-dateutil in /home/ec2-user/anaconda3/envs/python3/lib/python3.10/site-packages (from opensearch-py->-r requirements.txt (line 3)) (2.9.0)\n",
      "Requirement already satisfied: certifi>=2024.07.04 in /home/ec2-user/anaconda3/envs/python3/lib/python3.10/site-packages (from opensearch-py->-r requirements.txt (line 3)) (2024.7.4)\n",
      "Requirement already satisfied: Events in /home/ec2-user/anaconda3/envs/python3/lib/python3.10/site-packages (from opensearch-py->-r requirements.txt (line 3)) (0.5)\n",
      "Requirement already satisfied: pdfminer.six==20231228 in /home/ec2-user/anaconda3/envs/python3/lib/python3.10/site-packages (from pdfplumber->-r requirements.txt (line 5)) (20231228)\n",
      "Requirement already satisfied: Pillow>=9.1 in /home/ec2-user/anaconda3/envs/python3/lib/python3.10/site-packages (from pdfplumber->-r requirements.txt (line 5)) (10.4.0)\n",
      "Requirement already satisfied: pypdfium2>=4.18.0 in /home/ec2-user/anaconda3/envs/python3/lib/python3.10/site-packages (from pdfplumber->-r requirements.txt (line 5)) (4.30.0)\n",
      "Requirement already satisfied: charset-normalizer>=2.0.0 in /home/ec2-user/anaconda3/envs/python3/lib/python3.10/site-packages (from pdfminer.six==20231228->pdfplumber->-r requirements.txt (line 5)) (3.3.2)\n",
      "Requirement already satisfied: cryptography>=36.0.0 in /home/ec2-user/anaconda3/envs/python3/lib/python3.10/site-packages (from pdfminer.six==20231228->pdfplumber->-r requirements.txt (line 5)) (42.0.8)\n",
      "Requirement already satisfied: six in /home/ec2-user/anaconda3/envs/python3/lib/python3.10/site-packages (from opensearch_dsl->-r requirements.txt (line 7)) (1.16.0)\n",
      "Requirement already satisfied: Deprecated in /home/ec2-user/anaconda3/envs/python3/lib/python3.10/site-packages (from pikepdf->-r requirements.txt (line 8)) (1.2.14)\n",
      "Requirement already satisfied: lxml>=4.8 in /home/ec2-user/anaconda3/envs/python3/lib/python3.10/site-packages (from pikepdf->-r requirements.txt (line 8)) (5.3.0)\n",
      "Requirement already satisfied: typing_extensions>=4.0 in /home/ec2-user/anaconda3/envs/python3/lib/python3.10/site-packages (from pypdf->-r requirements.txt (line 9)) (4.12.2)\n",
      "Requirement already satisfied: aiosignal>=1.1.2 in /home/ec2-user/anaconda3/envs/python3/lib/python3.10/site-packages (from aiohttp<4.0.0,>=3.8.3->langchain->-r requirements.txt (line 2)) (1.3.1)\n",
      "Requirement already satisfied: frozenlist>=1.1.1 in /home/ec2-user/anaconda3/envs/python3/lib/python3.10/site-packages (from aiohttp<4.0.0,>=3.8.3->langchain->-r requirements.txt (line 2)) (1.4.1)\n",
      "Requirement already satisfied: multidict<7.0,>=4.5 in /home/ec2-user/anaconda3/envs/python3/lib/python3.10/site-packages (from aiohttp<4.0.0,>=3.8.3->langchain->-r requirements.txt (line 2)) (6.0.5)\n",
      "Requirement already satisfied: yarl<2.0,>=1.0 in /home/ec2-user/anaconda3/envs/python3/lib/python3.10/site-packages (from aiohttp<4.0.0,>=3.8.3->langchain->-r requirements.txt (line 2)) (1.9.4)\n",
      "Requirement already satisfied: botocore<1.36.0,>=1.35.16 in /home/ec2-user/anaconda3/envs/python3/lib/python3.10/site-packages (from boto3<2.0,>=1.34.142->sagemaker->-r requirements.txt (line 1)) (1.35.16)\n",
      "Requirement already satisfied: jmespath<2.0.0,>=0.7.1 in /home/ec2-user/anaconda3/envs/python3/lib/python3.10/site-packages (from boto3<2.0,>=1.34.142->sagemaker->-r requirements.txt (line 1)) (1.0.1)\n",
      "Requirement already satisfied: s3transfer<0.11.0,>=0.10.0 in /home/ec2-user/anaconda3/envs/python3/lib/python3.10/site-packages (from boto3<2.0,>=1.34.142->sagemaker->-r requirements.txt (line 1)) (0.10.2)\n",
      "Requirement already satisfied: zipp>=0.5 in /home/ec2-user/anaconda3/envs/python3/lib/python3.10/site-packages (from importlib-metadata<7.0,>=1.4.0->sagemaker->-r requirements.txt (line 1)) (3.19.2)\n",
      "Requirement already satisfied: jsonpatch<2.0,>=1.33 in /home/ec2-user/anaconda3/envs/python3/lib/python3.10/site-packages (from langchain-core<0.4.0,>=0.3.6->langchain->-r requirements.txt (line 2)) (1.33)\n",
      "Requirement already satisfied: httpx<1,>=0.23.0 in /home/ec2-user/anaconda3/envs/python3/lib/python3.10/site-packages (from langsmith<0.2.0,>=0.1.17->langchain->-r requirements.txt (line 2)) (0.27.0)\n",
      "Requirement already satisfied: orjson<4.0.0,>=3.9.14 in /home/ec2-user/anaconda3/envs/python3/lib/python3.10/site-packages (from langsmith<0.2.0,>=0.1.17->langchain->-r requirements.txt (line 2)) (3.10.7)\n",
      "Requirement already satisfied: annotated-types>=0.6.0 in /home/ec2-user/anaconda3/envs/python3/lib/python3.10/site-packages (from pydantic<3.0.0,>=2.7.4->langchain->-r requirements.txt (line 2)) (0.7.0)\n",
      "Requirement already satisfied: pydantic-core==2.23.3 in /home/ec2-user/anaconda3/envs/python3/lib/python3.10/site-packages (from pydantic<3.0.0,>=2.7.4->langchain->-r requirements.txt (line 2)) (2.23.3)\n",
      "Requirement already satisfied: idna<4,>=2.5 in /home/ec2-user/anaconda3/envs/python3/lib/python3.10/site-packages (from requests->sagemaker->-r requirements.txt (line 1)) (3.7)\n",
      "Requirement already satisfied: rich<14.0.0,>=13.0.0 in /home/ec2-user/anaconda3/envs/python3/lib/python3.10/site-packages (from sagemaker-core<2.0.0,>=1.0.0->sagemaker->-r requirements.txt (line 1)) (13.7.1)\n",
      "Requirement already satisfied: mock<5.0,>4.0 in /home/ec2-user/anaconda3/envs/python3/lib/python3.10/site-packages (from sagemaker-core<2.0.0,>=1.0.0->sagemaker->-r requirements.txt (line 1)) (4.0.3)\n",
      "Requirement already satisfied: jsonschema-specifications>=2023.03.6 in /home/ec2-user/anaconda3/envs/python3/lib/python3.10/site-packages (from jsonschema->sagemaker->-r requirements.txt (line 1)) (2023.12.1)\n",
      "Requirement already satisfied: referencing>=0.28.4 in /home/ec2-user/anaconda3/envs/python3/lib/python3.10/site-packages (from jsonschema->sagemaker->-r requirements.txt (line 1)) (0.35.1)\n",
      "Requirement already satisfied: rpds-py>=0.7.1 in /home/ec2-user/anaconda3/envs/python3/lib/python3.10/site-packages (from jsonschema->sagemaker->-r requirements.txt (line 1)) (0.19.1)\n",
      "Requirement already satisfied: greenlet!=0.4.17 in /home/ec2-user/anaconda3/envs/python3/lib/python3.10/site-packages (from SQLAlchemy<3,>=1.4->langchain->-r requirements.txt (line 2)) (3.0.3)\n",
      "Requirement already satisfied: wrapt<2,>=1.10 in /home/ec2-user/anaconda3/envs/python3/lib/python3.10/site-packages (from Deprecated->pikepdf->-r requirements.txt (line 8)) (1.16.0)\n",
      "Requirement already satisfied: pytz>=2020.1 in /home/ec2-user/anaconda3/envs/python3/lib/python3.10/site-packages (from pandas->sagemaker->-r requirements.txt (line 1)) (2024.1)\n",
      "Requirement already satisfied: tzdata>=2022.7 in /home/ec2-user/anaconda3/envs/python3/lib/python3.10/site-packages (from pandas->sagemaker->-r requirements.txt (line 1)) (2024.1)\n",
      "Requirement already satisfied: ppft>=1.7.6.8 in /home/ec2-user/anaconda3/envs/python3/lib/python3.10/site-packages (from pathos->sagemaker->-r requirements.txt (line 1)) (1.7.6.8)\n",
      "Requirement already satisfied: dill>=0.3.8 in /home/ec2-user/anaconda3/envs/python3/lib/python3.10/site-packages (from pathos->sagemaker->-r requirements.txt (line 1)) (0.3.8)\n",
      "Requirement already satisfied: pox>=0.3.4 in /home/ec2-user/anaconda3/envs/python3/lib/python3.10/site-packages (from pathos->sagemaker->-r requirements.txt (line 1)) (0.3.4)\n",
      "Requirement already satisfied: multiprocess>=0.70.16 in /home/ec2-user/anaconda3/envs/python3/lib/python3.10/site-packages (from pathos->sagemaker->-r requirements.txt (line 1)) (0.70.16)\n",
      "Requirement already satisfied: cffi>=1.12 in /home/ec2-user/anaconda3/envs/python3/lib/python3.10/site-packages (from cryptography>=36.0.0->pdfminer.six==20231228->pdfplumber->-r requirements.txt (line 5)) (1.16.0)\n",
      "Requirement already satisfied: anyio in /home/ec2-user/anaconda3/envs/python3/lib/python3.10/site-packages (from httpx<1,>=0.23.0->langsmith<0.2.0,>=0.1.17->langchain->-r requirements.txt (line 2)) (4.4.0)\n",
      "Requirement already satisfied: httpcore==1.* in /home/ec2-user/anaconda3/envs/python3/lib/python3.10/site-packages (from httpx<1,>=0.23.0->langsmith<0.2.0,>=0.1.17->langchain->-r requirements.txt (line 2)) (1.0.5)\n",
      "Requirement already satisfied: sniffio in /home/ec2-user/anaconda3/envs/python3/lib/python3.10/site-packages (from httpx<1,>=0.23.0->langsmith<0.2.0,>=0.1.17->langchain->-r requirements.txt (line 2)) (1.3.1)\n",
      "Requirement already satisfied: h11<0.15,>=0.13 in /home/ec2-user/anaconda3/envs/python3/lib/python3.10/site-packages (from httpcore==1.*->httpx<1,>=0.23.0->langsmith<0.2.0,>=0.1.17->langchain->-r requirements.txt (line 2)) (0.14.0)\n",
      "Requirement already satisfied: jsonpointer>=1.9 in /home/ec2-user/anaconda3/envs/python3/lib/python3.10/site-packages (from jsonpatch<2.0,>=1.33->langchain-core<0.4.0,>=0.3.6->langchain->-r requirements.txt (line 2)) (3.0.0)\n",
      "Requirement already satisfied: markdown-it-py>=2.2.0 in /home/ec2-user/anaconda3/envs/python3/lib/python3.10/site-packages (from rich<14.0.0,>=13.0.0->sagemaker-core<2.0.0,>=1.0.0->sagemaker->-r requirements.txt (line 1)) (3.0.0)\n",
      "Requirement already satisfied: pygments<3.0.0,>=2.13.0 in /home/ec2-user/anaconda3/envs/python3/lib/python3.10/site-packages (from rich<14.0.0,>=13.0.0->sagemaker-core<2.0.0,>=1.0.0->sagemaker->-r requirements.txt (line 1)) (2.18.0)\n",
      "Requirement already satisfied: pycparser in /home/ec2-user/anaconda3/envs/python3/lib/python3.10/site-packages (from cffi>=1.12->cryptography>=36.0.0->pdfminer.six==20231228->pdfplumber->-r requirements.txt (line 5)) (2.22)\n",
      "Requirement already satisfied: mdurl~=0.1 in /home/ec2-user/anaconda3/envs/python3/lib/python3.10/site-packages (from markdown-it-py>=2.2.0->rich<14.0.0,>=13.0.0->sagemaker-core<2.0.0,>=1.0.0->sagemaker->-r requirements.txt (line 1)) (0.1.2)\n",
      "Requirement already satisfied: exceptiongroup>=1.0.2 in /home/ec2-user/anaconda3/envs/python3/lib/python3.10/site-packages (from anyio->httpx<1,>=0.23.0->langsmith<0.2.0,>=0.1.17->langchain->-r requirements.txt (line 2)) (1.2.2)\n"
     ]
    }
   ],
   "source": [
    "!pip install -r requirements.txt"
   ]
  },
  {
   "cell_type": "code",
   "execution_count": 2,
   "id": "d8cbac98-cce9-4f73-892a-12adef2f6e0e",
   "metadata": {
    "tags": []
   },
   "outputs": [],
   "source": [
    "%load_ext autoreload\n",
    "%autoreload 2\n",
    "\n",
    "import sys, os\n",
    "module_path = \".\"\n",
    "sys.path.append(os.path.abspath(module_path))"
   ]
  },
  {
   "cell_type": "code",
   "execution_count": null,
   "id": "56f1da98-3cda-46b8-a6e4-c0f4887ebfe0",
   "metadata": {
    "tags": []
   },
   "outputs": [],
   "source": [
    "import boto3\n",
    "import uuid\n",
    "import botocore\n",
    "import time\n",
    "from dotenv import load_dotenv, set_key\n",
    "\n",
    "\n",
    "DEV = True # True일 경우 1-AZ without standby로 생성, False일 경우 3-AZ with standby. 워크샵 목적일 때는 지나친 과금/리소스 방지를 위해 True로 설정하는 것을 권장\n",
    "VERSION = \"2.11\" # OpenSearch Version (예: 2.7 / 2.9 / 2.11)\n",
    "\n",
    "load_dotenv()\n",
    "\n",
    "opensearch_user_id = os.environ.get(\"OPENSEARCH_USER\") if os.environ.get(\"OPENSEARCH_USER\") is not None else 'raguser' ## 다른 이름으로 수정해도 됩니다\n",
    "opensearch_user_password = os.environ.get(\"OPENSEARCH_PASSWORD\") if os.environ.get(\"OPENSEARCH_PASSWORD\") is not None else 'MarsEarth1!' ## 다른 값으로 수정해도 됩니다\n",
    "\n",
    "region = boto3.Session().region_name\n",
    "account_id = boto3.client(\"sts\").get_caller_identity()[\"Account\"]\n",
    "opensearch = boto3.client('opensearch', region)\n",
    "rand_str = uuid.uuid4().hex[:8]\n",
    "\n",
    "domain_name = f'rag-hol-kr-fsi-regulation'\n",
    "\n",
    "cluster_config_prod = {\n",
    "    'InstanceCount': 3,\n",
    "    'InstanceType': 'r6g.large.search',\n",
    "    'ZoneAwarenessEnabled': True,\n",
    "    'DedicatedMasterEnabled': True,\n",
    "    'MultiAZWithStandbyEnabled': True,\n",
    "    'DedicatedMasterType': 'r6g.large.search',\n",
    "    'DedicatedMasterCount': 3\n",
    "}\n",
    "\n",
    "cluster_config_dev = {\n",
    "    'InstanceCount': 1,\n",
    "    'InstanceType': 'r6g.large.search',\n",
    "    'ZoneAwarenessEnabled': False,\n",
    "    'DedicatedMasterEnabled': False,\n",
    "}\n",
    "\n",
    "\n",
    "ebs_options = {\n",
    "    'EBSEnabled': True,\n",
    "    'VolumeType': 'gp3',\n",
    "    'VolumeSize': 100,\n",
    "}\n",
    "\n",
    "advanced_security_options = {\n",
    "    'Enabled': True,\n",
    "    'InternalUserDatabaseEnabled': True,\n",
    "    'MasterUserOptions': {\n",
    "        'MasterUserName': opensearch_user_id,\n",
    "        'MasterUserPassword': opensearch_user_password\n",
    "    }\n",
    "}\n",
    "\n",
    "ap = f'{{\\\"Version\\\":\\\"2012-10-17\\\",\\\"Statement\\\":[{{\\\"Effect\\\":\\\"Allow\\\",\\\"Principal\\\":{{\\\"AWS\\\":\\\"*\\\"}},\\\"Action\\\":\\\"es:*\\\",\\\"Resource\\\":\\\"arn:aws:es:{region}:{account_id}:domain\\/{domain_name}\\/*\\\"}}]}}'\n",
    "\n",
    "if DEV:\n",
    "    cluster_config = cluster_config_dev\n",
    "else:\n",
    "    cluster_config = cluster_config_prod\n",
    "\n",
    "\n",
    "try:\n",
    "    # 도메인 상태 확인\n",
    "    response = opensearch.describe_domain(DomainName=domain_name)\n",
    "    print(f\"Domain '{domain_name}' already exists.\")\n",
    "except opensearch.exceptions.ResourceNotFoundException:\n",
    "    # 도메인이 존재하지 않는 경우 새로운 도메인 생성\n",
    "    print(f\"Domain '{domain_name}' does not exist. Creating a new domain...\")\n",
    "\n",
    "response = opensearch.create_domain(\n",
    "    DomainName=domain_name,\n",
    "    EngineVersion=f'OpenSearch_{VERSION}',\n",
    "    ClusterConfig=cluster_config,\n",
    "    AccessPolicies=ap,\n",
    "    EBSOptions=ebs_options,\n",
    "    AdvancedSecurityOptions=advanced_security_options,\n",
    "    NodeToNodeEncryptionOptions={'Enabled': True},\n",
    "    EncryptionAtRestOptions={'Enabled': True},\n",
    "    DomainEndpointOptions={'EnforceHTTPS': True}\n",
    ")"
   ]
  },
  {
   "cell_type": "code",
   "execution_count": 6,
   "id": "6c9389fd-0501-4cdd-8b8d-d0b56721c269",
   "metadata": {
    "tags": []
   },
   "outputs": [
    {
     "name": "stdout",
     "output_type": "stream",
     "text": [
      "Creating domain...\n"
     ]
    },
    {
     "ename": "KeyboardInterrupt",
     "evalue": "",
     "output_type": "error",
     "traceback": [
      "\u001b[0;31m---------------------------------------------------------------------------\u001b[0m",
      "\u001b[0;31mKeyboardInterrupt\u001b[0m                         Traceback (most recent call last)",
      "File \u001b[0;32m<timed exec>:22\u001b[0m\n",
      "File \u001b[0;32m<timed exec>:9\u001b[0m, in \u001b[0;36mwait_for_domain_creation\u001b[0;34m(domain_name)\u001b[0m\n",
      "\u001b[0;31mKeyboardInterrupt\u001b[0m: "
     ]
    }
   ],
   "source": [
    "%%time\n",
    "def wait_for_domain_creation(domain_name):\n",
    "    try:\n",
    "        response = opensearch.describe_domain(\n",
    "            DomainName=domain_name\n",
    "        )\n",
    "        # Every 60 seconds, check whether the domain is processing.\n",
    "        while 'Endpoint' not in response['DomainStatus']:\n",
    "            print('Creating domain...')\n",
    "            time.sleep(60)\n",
    "            response = opensearch.describe_domain(\n",
    "                DomainName=domain_name)\n",
    "\n",
    "        # Once we exit the loop, the domain is ready for ingestion.\n",
    "        endpoint = response['DomainStatus']['Endpoint']\n",
    "        print('Domain endpoint ready to receive data: ' + endpoint)\n",
    "    except botocore.exceptions.ClientError as error:\n",
    "        if error.response['Error']['Code'] == 'ResourceNotFoundException':\n",
    "            print('Domain not found.')\n",
    "        else:\n",
    "            raise error\n",
    "\n",
    "wait_for_domain_creation(domain_name)"
   ]
  },
  {
   "cell_type": "code",
   "execution_count": 7,
   "id": "a3e6d6be-e5df-418d-be07-3cf40c8c378c",
   "metadata": {
    "tags": []
   },
   "outputs": [
    {
     "ename": "KeyError",
     "evalue": "'Endpoint'",
     "output_type": "error",
     "traceback": [
      "\u001b[0;31m---------------------------------------------------------------------------\u001b[0m",
      "\u001b[0;31mKeyError\u001b[0m                                  Traceback (most recent call last)",
      "Cell \u001b[0;32mIn[7], line 2\u001b[0m\n\u001b[1;32m      1\u001b[0m response \u001b[38;5;241m=\u001b[39m opensearch\u001b[38;5;241m.\u001b[39mdescribe_domain(DomainName\u001b[38;5;241m=\u001b[39mdomain_name)\n\u001b[0;32m----> 2\u001b[0m opensearch_domain_endpoint \u001b[38;5;241m=\u001b[39m \u001b[38;5;124mf\u001b[39m\u001b[38;5;124m\"\u001b[39m\u001b[38;5;124mhttps://\u001b[39m\u001b[38;5;132;01m{\u001b[39;00m\u001b[43mresponse\u001b[49m\u001b[43m[\u001b[49m\u001b[38;5;124;43m'\u001b[39;49m\u001b[38;5;124;43mDomainStatus\u001b[39;49m\u001b[38;5;124;43m'\u001b[39;49m\u001b[43m]\u001b[49m\u001b[43m[\u001b[49m\u001b[38;5;124;43m'\u001b[39;49m\u001b[38;5;124;43mEndpoint\u001b[39;49m\u001b[38;5;124;43m'\u001b[39;49m\u001b[43m]\u001b[49m\u001b[38;5;132;01m}\u001b[39;00m\u001b[38;5;124m\"\u001b[39m\n\u001b[1;32m      4\u001b[0m \u001b[38;5;28mprint\u001b[39m(opensearch_domain_endpoint)\n",
      "\u001b[0;31mKeyError\u001b[0m: 'Endpoint'"
     ]
    }
   ],
   "source": [
    "response = opensearch.describe_domain(DomainName=domain_name)\n",
    "opensearch_domain_endpoint = f\"https://{response['DomainStatus']['Endpoint']}\"\n",
    "\n",
    "print(opensearch_domain_endpoint) \n",
    "\n",
    "# set to .env\n",
    "set_key(\".env\", \"OPENSEARCH_HOST\", opensearch_domain_endpoint)\n",
    "set_key(\".env\", \"OPENSEARCH_USER\", opensearch_user_id)\n",
    "set_key(\".env\", \"OPENSEARCH_PASSWORD\", opensearch_user_password)\n",
    "set_key(\".env\", \"OPENSEARCH_REGION\", region)\n",
    "set_key(\".env\", \"OPENSEARCH_INDEX\", \"kr-fsi-regulation\")\n"
   ]
  },
  {
   "cell_type": "code",
   "execution_count": 16,
   "id": "f4f2bd8b-d11a-4b97-94c4-f4a1fa796448",
   "metadata": {
    "tags": []
   },
   "outputs": [],
   "source": [
    "nori_pkg_id = {}\n",
    "nori_pkg_id['us-east-1'] = {\n",
    "    '2.3': 'G196105221',\n",
    "    '2.5': 'G240285063',\n",
    "    '2.7': 'G16029449', \n",
    "    '2.9': 'G60209291',\n",
    "    '2.11': 'G181660338'\n",
    "}\n",
    "\n",
    "nori_pkg_id['us-west-2'] = {\n",
    "    '2.3': 'G94047474',\n",
    "    '2.5': 'G138227316',\n",
    "    '2.7': 'G182407158', \n",
    "    '2.9': 'G226587000',\n",
    "    '2.11': 'G79602591'\n",
    "}\n",
    "\n",
    "pkg_response = opensearch.associate_package(\n",
    "    PackageID=nori_pkg_id[region][VERSION], # nori plugin\n",
    "    DomainName=domain_name\n",
    ")"
   ]
  },
  {
   "cell_type": "code",
   "execution_count": 17,
   "id": "6b366949-cd59-4f14-bd86-1418d3e630ee",
   "metadata": {
    "tags": []
   },
   "outputs": [
    {
     "name": "stdout",
     "output_type": "stream",
     "text": [
      "Associating packages...\n",
      "Associating packages...\n",
      "Associating packages...\n",
      "Associating packages...\n",
      "Associating packages...\n",
      "Associating packages...\n",
      "Associating packages...\n",
      "Associating packages...\n",
      "Associating packages...\n",
      "Associating packages...\n",
      "Associating packages...\n",
      "Associating packages...\n",
      "Associating packages...\n",
      "Associating packages...\n",
      "Associating packages...\n",
      "Associating packages...\n",
      "Associating packages...\n",
      "Associating packages...\n",
      "Associating packages...\n",
      "Associating packages...\n",
      "Associating packages...\n",
      "Associating packages...\n",
      "Associating packages...\n",
      "Associating packages...\n",
      "Associating packages...\n",
      "Associating packages...\n",
      "Associating packages...\n",
      "Associating packages...\n",
      "Associating packages...\n",
      "Associating packages...\n",
      "Associated!\n",
      "CPU times: user 523 ms, sys: 31.2 ms, total: 554 ms\n",
      "Wall time: 30min 3s\n"
     ]
    }
   ],
   "source": [
    "%%time\n",
    "def wait_for_associate_package(domain_name, max_results=1):\n",
    "\n",
    "    response = opensearch.list_packages_for_domain(\n",
    "        DomainName=domain_name,\n",
    "        MaxResults=1\n",
    "    )\n",
    "    # Every 60 seconds, check whether the domain is processing.\n",
    "    while response['DomainPackageDetailsList'][0]['DomainPackageStatus'] == \"ASSOCIATING\":\n",
    "        print('Associating packages...')\n",
    "        time.sleep(60)\n",
    "        response = opensearch.list_packages_for_domain(\n",
    "            DomainName=domain_name,\n",
    "            MaxResults=1\n",
    "        )\n",
    "\n",
    "    #endpoint = response['DomainStatus']['Endpoint']\n",
    "    print('Associated!')\n",
    "\n",
    "wait_for_associate_package(domain_name)"
   ]
  },
  {
   "cell_type": "code",
   "execution_count": 18,
   "id": "b369dc56-a673-401e-9b1f-5a278adab647",
   "metadata": {
    "tags": []
   },
   "outputs": [
    {
     "name": "stdout",
     "output_type": "stream",
     "text": [
      "langchain                     0.3.1\n",
      "langchain-core                0.3.7\n",
      "langchain-text-splitters      0.3.0\n",
      "opensearch-dsl                2.1.0\n",
      "opensearch-py                 2.7.1\n"
     ]
    }
   ],
   "source": [
    "! pip list | grep langchain\n",
    "! pip list | grep opensearch"
   ]
  },
  {
   "cell_type": "code",
   "execution_count": 5,
   "id": "d5b1b084-16b5-49c8-8487-b74153585954",
   "metadata": {
    "tags": []
   },
   "outputs": [
    {
     "ename": "NameError",
     "evalue": "name 'opensearch_domain_endpoint' is not defined",
     "output_type": "error",
     "traceback": [
      "\u001b[0;31m---------------------------------------------------------------------------\u001b[0m",
      "\u001b[0;31mNameError\u001b[0m                                 Traceback (most recent call last)",
      "Cell \u001b[0;32mIn[5], line 5\u001b[0m\n\u001b[1;32m      1\u001b[0m \u001b[38;5;28;01mfrom\u001b[39;00m \u001b[38;5;21;01mopensearchpy\u001b[39;00m \u001b[38;5;28;01mimport\u001b[39;00m OpenSearch, RequestsHttpConnection\n\u001b[1;32m      2\u001b[0m http_auth \u001b[38;5;241m=\u001b[39m (opensearch_user_id, opensearch_user_password)\n\u001b[1;32m      3\u001b[0m os_client \u001b[38;5;241m=\u001b[39m OpenSearch(\n\u001b[1;32m      4\u001b[0m                 hosts\u001b[38;5;241m=\u001b[39m[\n\u001b[0;32m----> 5\u001b[0m                     {\u001b[38;5;124m'\u001b[39m\u001b[38;5;124mhost\u001b[39m\u001b[38;5;124m'\u001b[39m: \u001b[43mopensearch_domain_endpoint\u001b[49m\u001b[38;5;241m.\u001b[39mreplace(\u001b[38;5;124m\"\u001b[39m\u001b[38;5;124mhttps://\u001b[39m\u001b[38;5;124m\"\u001b[39m, \u001b[38;5;124m\"\u001b[39m\u001b[38;5;124m\"\u001b[39m),\n\u001b[1;32m      6\u001b[0m                      \u001b[38;5;124m'\u001b[39m\u001b[38;5;124mport\u001b[39m\u001b[38;5;124m'\u001b[39m: \u001b[38;5;241m443\u001b[39m\n\u001b[1;32m      7\u001b[0m                     }\n\u001b[1;32m      8\u001b[0m                 ],\n\u001b[1;32m      9\u001b[0m                 http_auth\u001b[38;5;241m=\u001b[39mhttp_auth, \u001b[38;5;66;03m# Master username, Master password,\u001b[39;00m\n\u001b[1;32m     10\u001b[0m                 use_ssl\u001b[38;5;241m=\u001b[39m\u001b[38;5;28;01mTrue\u001b[39;00m,\n\u001b[1;32m     11\u001b[0m                 verify_certs\u001b[38;5;241m=\u001b[39m\u001b[38;5;28;01mTrue\u001b[39;00m,\n\u001b[1;32m     12\u001b[0m                 connection_class\u001b[38;5;241m=\u001b[39mRequestsHttpConnection\n\u001b[1;32m     13\u001b[0m             )\n\u001b[1;32m     15\u001b[0m res_str \u001b[38;5;241m=\u001b[39m os_client\u001b[38;5;241m.\u001b[39mcat\u001b[38;5;241m.\u001b[39mplugins()\n\u001b[1;32m     17\u001b[0m \u001b[38;5;28;01mif\u001b[39;00m \u001b[38;5;124m'\u001b[39m\u001b[38;5;124mopensearch-analysis-nori\u001b[39m\u001b[38;5;124m'\u001b[39m \u001b[38;5;129;01min\u001b[39;00m res_str:\n",
      "\u001b[0;31mNameError\u001b[0m: name 'opensearch_domain_endpoint' is not defined"
     ]
    }
   ],
   "source": [
    "from opensearchpy import OpenSearch, RequestsHttpConnection\n",
    "http_auth = (opensearch_user_id, opensearch_user_password)\n",
    "os_client = OpenSearch(\n",
    "                hosts=[\n",
    "                    {'host': opensearch_domain_endpoint.replace(\"https://\", \"\"),\n",
    "                     'port': 443\n",
    "                    }\n",
    "                ],\n",
    "                http_auth=http_auth, # Master username, Master password,\n",
    "                use_ssl=True,\n",
    "                verify_certs=True,\n",
    "                connection_class=RequestsHttpConnection\n",
    "            )\n",
    "\n",
    "res_str = os_client.cat.plugins()\n",
    "\n",
    "if 'opensearch-analysis-nori' in res_str:\n",
    "    print('opensearch-nori plugin이 사용가능합니다.')\n",
    "else:\n",
    "    print('opensearch-nori plugin 연결이 진행되지 않았습니다.')"
   ]
  },
  {
   "cell_type": "code",
   "execution_count": 1,
   "id": "121e319c-db42-4814-b938-9183ffdd27f5",
   "metadata": {
    "tags": []
   },
   "outputs": [
    {
     "name": "stderr",
     "output_type": "stream",
     "text": [
      "UsageError: Unknown variable 'opensearch_user_id'\n"
     ]
    }
   ],
   "source": [
    "%store opensearch_user_id opensearch_user_password domain_name opensearch_domain_endpoint"
   ]
  }
 ],
 "metadata": {
  "kernelspec": {
   "display_name": "conda_python3",
   "language": "python",
   "name": "conda_python3"
  },
  "language_info": {
   "codemirror_mode": {
    "name": "ipython",
    "version": 3
   },
   "file_extension": ".py",
   "mimetype": "text/x-python",
   "name": "python",
   "nbconvert_exporter": "python",
   "pygments_lexer": "ipython3",
   "version": "3.10.14"
  }
 },
 "nbformat": 4,
 "nbformat_minor": 5
}
